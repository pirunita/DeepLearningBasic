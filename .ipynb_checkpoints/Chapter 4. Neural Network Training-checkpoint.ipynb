{
 "cells": [
  {
   "cell_type": "markdown",
   "metadata": {},
   "source": [
    "Training : training data로부터 weight parameter의 최적값을 자동으로 획득하는 것이다.<br>\n",
    "이 때 Neural Network가 학습할 수 있도록 하는 함수가 **loss function**이며, loss function의 결과를 가장 작게 만드는 weight function을 찾는 것이 **training의 목적**이 될 것이다."
   ]
  },
  {
   "cell_type": "markdown",
   "metadata": {},
   "source": [
    "## 4.1 데이터로부터 학습 ##\n",
    "Neural network는 데이터를 보고 weight parameter을 자동으로 결정한다는 특징이 있다. 이 때 parameter은 엄청나게 늘어날 수 있다."
   ]
  },
  {
   "cell_type": "markdown",
   "metadata": {},
   "source": [
    "### 4.1.1 데이터 주도 학습 ###\n",
    "Machine learning에서는 Data로부터 패턴을 찾으려고 한다. 주어진 Data로부터 어떤 문제를 해결하기 위해서는 <u>이미지에서 feature을 추출하고 그 feature의 pattern을 training</u>하는 방법이 있다.<br>\n",
    "* Feature : Input data에서 원하는 data를 정확하게 추출할 수 있도록 설계된 transformer, 특히 Image feature은 vector로 기술한다.\n",
    "* Image feature에는 SIFT, SURF, HOG 등의 특징을 이용\n",
    "* 이미지로부터 변환된 vector로 지도 학습 방식의 대표 분류 기법인 SVM, KNN 등으로 학습을 진행\n",
    "\n",
    "Machine learning은 사람의 개입을 최소화하지만 neural network와 Deep learning을 통해 사람의 개입을 더욱 배제할 수 있다."
   ]
  },
  {
   "cell_type": "markdown",
   "metadata": {},
   "source": [
    "Neural network는 이미지를 그대로 학습한다. 이는 Neural network가 이미지에 포함된 중요한 feature도 스스로 학습하여 사람의 개입이 없게 될 것이다. 따라서 end-to-end machine learning이라고도 한다."
   ]
  },
  {
   "cell_type": "markdown",
   "metadata": {},
   "source": [
    "### 4.1.2 Training data & Test data ###\n",
    "Training data만으로 학습하여 최적의 parameter를 찾고 Test data를 사용하여 training model을 평가한다. 모델은 범용적으로 사용되어야 하므로 새로운 data에도 문제를 잘 풀어내야 하며 이것이 최종 목표다.<br>\n",
    "Dataset 하나만으로 parameter의 학습과 평가를 한다면 범용성이 떨어질 수 있다. <u>한 dataset에만 지나치게 최적화된 상태를 <b>overfitting</b>이라고 한다.</u>"
   ]
  },
  {
   "cell_type": "markdown",
   "metadata": {},
   "source": [
    "## 4.2 loss function ##\n",
    "Neural network에서도 현재의 상태를 **하나의 지표**로 나타내고, 그 지표를 최적화하기 위해선 weight parameter의 값을 탐색한다. 이 때 그 지표를 **loss function**이라고 한다."
   ]
  },
  {
   "cell_type": "markdown",
   "metadata": {},
   "source": [
    "### 4.2.1 Mean Squared Error, MSE ###"
   ]
  },
  {
   "cell_type": "markdown",
   "metadata": {},
   "source": [
    "$$E = \\frac{1}{2} \\sum_{k}(y_k - t_k)^2$$\n",
    "* y<sub>k</sub> : 신경망 출력으로 softmax function output -> 추정값으로 확률로 해석\n",
    "* t<sub>k</sub> : 정답 label, 정답을 가리키는 element는 1, 그 외에는 0 -> **One-hot encoding**"
   ]
  },
  {
   "cell_type": "code",
   "execution_count": 1,
   "metadata": {},
   "outputs": [
    {
     "name": "stdout",
     "output_type": "stream",
     "text": [
      "0.09750000000000003\n",
      "0.5975\n"
     ]
    }
   ],
   "source": [
    "import numpy as np\n",
    "def mean_squared_error(y, t):\n",
    "    return 0.5 * np.sum((y-t)**2)\n",
    "\n",
    "t = [0, 0, 1, 0, 0, 0, 0, 0, 0, 0] # One-hot vector, 정답 2\n",
    "y1 = [0.1, 0.05, 0.6, 0.0, 0.05, 0.1, 0.0, 0.1, 0.0, 0.0] # softmax function output 임의로 설정, 2일 확률이 가장 높음\n",
    "print(mean_squared_error(np.array(y1), np.array(t)))\n",
    "\n",
    "y2 = [0.1, 0.05, 0.1, 0.0, 0.05, 0.1, 0.0, 0.6, 0.0, 0.0] # 일부러 틀린 one-hot vector 도입 = 신경망 출력이 7일 때를 가정\n",
    "print(mean_squared_error(np.array(y2), np.array(t)))"
   ]
  },
  {
   "cell_type": "markdown",
   "metadata": {},
   "source": [
    "첫 번째가 loss function의 output이 작으며 정답 label과도 오차가 적다. MSE로 봤을 때 첫 번째가 정답에 더 가깝다."
   ]
  },
  {
   "cell_type": "markdown",
   "metadata": {},
   "source": [
    "### 4.2.2 Cross Entropy Error, CEE"
   ]
  },
  {
   "cell_type": "markdown",
   "metadata": {},
   "source": [
    "$$E = - \\sum_{k}t_k\\log y_k$$\n",
    "* log : 밑이 e인 자연로그 (ln)\n",
    "* y<sub>k</sub> : 신경망 output\n",
    "* t<sub>k</sub> : 정답 label\n",
    "<br>\n",
    "t<sub>k</sub>가 1일 때의 추정값 y<sub>k</sub>의 자연로그를 계산하는 식이 된다. 이는 정답일 때의 출력이 전체 값을 정하게 된다.<br>\n",
    "* Ex) 정답 label의 output이 0.6이라면 -log0.6 = 0.51, 만약 output이 0.1이라면 -log0.1 = 2.30\n",
    "따라서 CEE는 <u>정답에 해당하는 output이 커질수록 0에 다가가고</u> 출력이 1이면 0이된다. 반대의 정답일 경우 출력이 작아져 오차가 커지게 된다."
   ]
  },
  {
   "cell_type": "code",
   "execution_count": 2,
   "metadata": {},
   "outputs": [
    {
     "name": "stdout",
     "output_type": "stream",
     "text": [
      "0.510825457099338\n",
      "2.302584092994546\n"
     ]
    }
   ],
   "source": [
    "import numpy as np\n",
    "\n",
    "def cross_entropy_error(y, t):\n",
    "    delta = 1e-7\n",
    "    return -np.sum(t * np.log(y + delta))\n",
    "\n",
    "t = [0, 0, 1, 0, 0, 0, 0, 0, 0, 0] \n",
    "y1 = [0.1, 0.05, 0.6, 0.0, 0.05, 0.1, 0.0, 0.1, 0.0, 0.0] \n",
    "print(cross_entropy_error(np.array(y1), np.array(t)))\n",
    "\n",
    "y2 = [0.1, 0.05, 0.1, 0.0, 0.05, 0.1, 0.0, 0.6, 0.0, 0.0] \n",
    "print(cross_entropy_error(np.array(y2), np.array(t)))\n"
   ]
  },
  {
   "cell_type": "markdown",
   "metadata": {},
   "source": [
    "아주 작은 값 delta를 더함으로써 -inf를 발생하지 않도록 작은 값을 더해 0이 되지 않게 한다."
   ]
  },
  {
   "cell_type": "markdown",
   "metadata": {},
   "source": [
    "### 4.2.3 Mini-batch Training ###\n",
    "이제는 데이터 모두에 대한 loss function의 합을 구하는 방법을 생각한다. cross entropy error는 다음과 같이 나타낼 수 있다.\n",
    "$$E = -\\frac{1}{N} \\sum_{n} \\sum_{k} t_{nk} \\log y_{nk}$$\n",
    "* 위에 나타낸 data 하나에 대한 loss function을 N개의 데이터로 확장하고 N으로 나누어 normalization, 즉 '평균 손실 함수'를 구하여 <u>training data 개수와 관계없이 통일된 지표를 얻을 수 있다.</u>\n",
    "* Data 수가 많아지면 데이터를 일일이 loss function을 계산하는 것은 시간이 걸리므로 데이터 일부를 추려 전체의 **근사치**로 이용\n",
    "* 학습 시 training data로부터 일부만 골라 학습을 수행하는 **mini-batch training** 수행"
   ]
  },
  {
   "cell_type": "code",
   "execution_count": 3,
   "metadata": {},
   "outputs": [
    {
     "name": "stdout",
     "output_type": "stream",
     "text": [
      "(60000, 784)\n",
      "(60000, 10)\n",
      "[23410 32494 49427 25388 41666   308 10557 28471 34736 10959]\n"
     ]
    }
   ],
   "source": [
    "import sys, os\n",
    "import numpy as np\n",
    "from dataset.mnist import load_mnist\n",
    "sys.path.append(os.pardir)\n",
    "\n",
    "(x_train, t_train), (x_test, t_test) = load_mnist(normalize=True, one_hot_label=True)\n",
    "print(x_train.shape)\n",
    "print(t_train.shape)\n",
    "# training data : 60,000\n",
    "# input data : 784(28 * 28)\n",
    "# 정답 label : 10줄\n",
    "\n",
    "train_size = x_train.shape[0] # 60,000\n",
    "batch_size = 10\n",
    "batch_mask = np.random.choice(train_size, batch_size) # 60,000개의 training data에서 10장만 추출\n",
    "print(batch_mask)\n",
    "\n",
    "# mini-batch 구성\n",
    "x_batch = x_train[batch_mask]\n",
    "t_batch = t_train[batch_mask]"
   ]
  },
  {
   "cell_type": "markdown",
   "metadata": {},
   "source": [
    "### 4.2.4 (배치용) Cross Entropy Error 구현 ###\n",
    "데이터가 하나인 경우와 데이터가 배치로 묶여 입력될 경우를 모두 처리한다."
   ]
  },
  {
   "cell_type": "code",
   "execution_count": 4,
   "metadata": {},
   "outputs": [],
   "source": [
    "def cross_entropy_error(y, t):\n",
    "    if y.ndim == 1:\n",
    "        t = t.reshape(1, t.size)\n",
    "        y = y.reshape(1, y.size)\n",
    "    \n",
    "    batch_size = y.shape[0]\n",
    "    return -np.sum(t * np.log(y + 1e-7)) / batch_size"
   ]
  },
  {
   "cell_type": "markdown",
   "metadata": {},
   "source": [
    "* y : 신경망 output\n",
    "* t : 정답 label\n",
    "* y가 1차원이라면 데이터 하나당 CEE를 구하는 경우 reshape로 data의 shape를 바꾼 후 batch_size로 나눠 정규화하여 **이미지 1장 당 평균의 cross entropy error**를 계산"
   ]
  },
  {
   "cell_type": "code",
   "execution_count": 5,
   "metadata": {},
   "outputs": [],
   "source": [
    "def cross_entropy_error(y, t):\n",
    "    if y.ndim == 1:\n",
    "        t = t.reshape(1, t.size)\n",
    "        y = y.reshape(1, y.size)\n",
    "    \n",
    "    batch_size = y.shape[0]\n",
    "    return -np.sum(np.log(y[np.arange(batch_size), t] + 1e-7)) / batch_size"
   ]
  },
  {
   "cell_type": "markdown",
   "metadata": {},
   "source": [
    "* 정답 label이 one-hot vector가 아닌 '2', '7' 등의 숫자 label로 주어졌을 때 CEE를 구하는 방법이다.\n",
    "* 핵심은 t가 0인 element는 CEE도 0이므로 그 계산은 skip하는 것이다."
   ]
  },
  {
   "cell_type": "markdown",
   "metadata": {},
   "source": [
    "np.log(y[np.arange(batch_size), t])\n",
    "* np.arange(batch_size)는 0부터 batch_size - 1까지 배열 생성, batch_size가 5라면 [0, 1, 2, 3, 4] 생성"
   ]
  },
  {
   "cell_type": "markdown",
   "metadata": {},
   "source": [
    "### 4.2.5 loss function을 설정하는 이유 ###\n",
    "* Neural network에서 최적의 parameter(weight, bias)를 탐색할 때 loss function의 값을 최소화 하는 parameter값을 찾는다.\n",
    "* parameter의 미분을 통해 서서리 갱신\n",
    "* **weight parameter의 loss function 미분 ** 은 <u>weight parameter를 아주 미세하게 변화시켰을 때 어떻게 loss function이 변하는지?</u>\n",
    "* 미분 값이 0이면 weight parameter는 어디로 움직여도 loss function 값이 달라지지 않으므로 accuracy를 지표로 삼지 않는다."
   ]
  },
  {
   "cell_type": "markdown",
   "metadata": {},
   "source": [
    "## 4.3 수치 미분 ##\n",
    "경사법은 기울기 값을 기준으로 나아갈 방향을 정한다."
   ]
  },
  {
   "cell_type": "markdown",
   "metadata": {},
   "source": [
    "### 4.3.1 미분 구현 ###\n",
    "$$ \\frac{df(x)}{dx} = \\lim_{h->0} \\frac{f(x + h) - f(x)}{h}$$"
   ]
  },
  {
   "cell_type": "code",
   "execution_count": 6,
   "metadata": {},
   "outputs": [],
   "source": [
    "# 잘못된 구현\n",
    "def numerical_diff(f, x):\n",
    "    h = 10e-50\n",
    "    return (f(x + h) - f(x)) / h"
   ]
  },
  {
   "cell_type": "markdown",
   "metadata": {},
   "source": [
    "* h는 최대한 작은 값으로 대입하기 위해 10e-50을 대입, 하지만 이는 **반올림 오차** 문제를 일으킨다. 이는 작은 값이(소수점 8자리 이하) 생략되어 최종 계산 결과에 오차가 생기게 된다. ex) np.float32(1e-50) = 0.0\n",
    "    - 너무 작은 값을 이용하면 계산이 힘들 기 때문에 10^(-4)를 사용하면 좋은 결과를 얻을 수 있다.\n",
    "* f(x + h) - f(x)는 (x + h)와 x 사이의 기울기에 해당하므로 x에서 접선의 기울기와 오차가 존재한다. \n",
    "    - 이는 **전방 차분** 이라고 하며, 이 오차를 줄이기 위해 **중심 차분**을 사용한다. 이는 (x + h)와 (x - h)일 때의 함수 f의 차분을 사용한다."
   ]
  },
  {
   "cell_type": "code",
   "execution_count": 7,
   "metadata": {},
   "outputs": [],
   "source": [
    "## 개선된 구현\n",
    "def numerical_diff(f, x):\n",
    "    h = 1e-4\n",
    "    return (f(x + h) - f(x - h)) / (2 * h)"
   ]
  },
  {
   "cell_type": "markdown",
   "metadata": {},
   "source": [
    "### 4.3.2 수치 미분의 예 ###\n",
    "$$y = 0.01x^2 + 0.1x$$"
   ]
  },
  {
   "cell_type": "code",
   "execution_count": 8,
   "metadata": {},
   "outputs": [],
   "source": [
    "def function_1(x):\n",
    "    return 0.01 * x ** 2 + 0.1 * x"
   ]
  },
  {
   "cell_type": "code",
   "execution_count": 9,
   "metadata": {
    "scrolled": true
   },
   "outputs": [
    {
     "data": {
      "text/plain": [
       "<Figure size 640x480 with 1 Axes>"
      ]
     },
     "metadata": {},
     "output_type": "display_data"
    }
   ],
   "source": [
    "import numpy as np\n",
    "import matplotlib.pylab as plt\n",
    "\n",
    "x = np.arange(0.0, 20.0, 0.1) # 0 ~ 20Rkwl 0.1간격의 배열 형성\n",
    "y = function_1(x)\n",
    "plt.xlabel(\"x\")\n",
    "plt.ylabel(\"f(x)\")\n",
    "plt.plot(x, y)\n",
    "plt.show()\n"
   ]
  },
  {
   "cell_type": "code",
   "execution_count": 10,
   "metadata": {},
   "outputs": [
    {
     "name": "stdout",
     "output_type": "stream",
     "text": [
      "0.1999999999990898\n",
      "0.2999999999986347\n",
      "0.4000000000026205\n"
     ]
    }
   ],
   "source": [
    "# x는 5, 10, 15일 때 계산 해 보자\n",
    "print(numerical_diff(function_1, 5))\n",
    "print(numerical_diff(function_1, 10))\n",
    "print(numerical_diff(function_1, 15))"
   ]
  },
  {
   "cell_type": "code",
   "execution_count": 11,
   "metadata": {},
   "outputs": [
    {
     "name": "stdout",
     "output_type": "stream",
     "text": [
      "0.1999999999990898\n",
      "0.2999999999986347\n"
     ]
    },
    {
     "data": {
      "image/png": "[encoded data removed]",
      "text/plain": [
       "<Figure size 432x288 with 1 Axes>"
      ]
     },
     "metadata": {},
     "output_type": "display_data"
    }
   ],
   "source": [
    " # 구한 수치 미분 값을 기울기로 하는 직선을 그려 본다.\n",
    "def tangent_line(f, x):\n",
    "    d = numerical_diff(f, x)\n",
    "    print(d)\n",
    "    y = f(x) - d*x\n",
    "    return lambda t: d*t + y\n",
    "\n",
    "x = np.arange(0.0, 20.0, 0.1)\n",
    "y = function_1(x)\n",
    "plt.xlabel(\"x\")\n",
    "plt.ylabel(\"f(x)\")\n",
    "\n",
    "tf1 = tangent_line(function_1, 5)\n",
    "y2 = tf1(x)\n",
    "tf2 = tangent_line(function_1, 10)\n",
    "y3 = tf2(x)\n",
    "plt.plot(x, y)\n",
    "plt.plot(x, y2)\n",
    "plt.plot(x, y3)\n",
    "plt.show()"
   ]
  },
  {
   "cell_type": "markdown",
   "metadata": {},
   "source": [
    "### 4.3.3 편미분 ###\n",
    "$$ f(x_0, x_1) = {x_0}^2 + {x_1}^2 $$\n",
    "변수가 여럿인 함수에 대한 미분"
   ]
  },
  {
   "cell_type": "markdown",
   "metadata": {},
   "source": [
    "## 4.4 Gradient ##\n",
    "모든 변수의 편미분을 벡터로 정리한 것\n",
    "* (x<sub>0</sub>와 x<sub>1</sub>) 양쪽의 편미분을 묶어서 계산"
   ]
  },
  {
   "cell_type": "code",
   "execution_count": 12,
   "metadata": {},
   "outputs": [],
   "source": [
    "def _numerical_gradient_no_batch(f, x):\n",
    "    h = 1e-4\n",
    "    grad = np.zeros_like(x) # x와 shape가 같은 배열 생성\n",
    "    \n",
    "    for idx in range(x.size):\n",
    "        # f(x + h) 계산\n",
    "        tmp_val = x[idx]\n",
    "        x[idx] = tmp_val + h\n",
    "        fxh1 = f(x)\n",
    "        \n",
    "        # f(x - h) 계산\n",
    "        x[idx] = tmp_val - h\n",
    "        fxh2 = f(x)\n",
    "        \n",
    "        grad[idx] = (fxh1 - fxh2) / (2 * h)\n",
    "        x[idx] = tmp_val # 값 복원\n",
    "    return grad"
   ]
  },
  {
   "cell_type": "markdown",
   "metadata": {},
   "source": [
    "$$ f(x_0, x_1) = {x_0}^2 + {x_1}^2 $$"
   ]
  },
  {
   "cell_type": "code",
   "execution_count": 13,
   "metadata": {},
   "outputs": [
    {
     "data": {
      "image/png": "[encoded data removed]",
      "text/plain": [
       "<Figure size 432x288 with 1 Axes>"
      ]
     },
     "metadata": {},
     "output_type": "display_data"
    }
   ],
   "source": [
    "import numpy as np\n",
    "import matplotlib.pylab as plt\n",
    "from mpl_toolkits.mplot3d import Axes3D\n",
    "def numerical_gradient(f, X):\n",
    "    if X.ndim == 1:\n",
    "        return _numerical_gradient_no_batch(f, X)\n",
    "    else:\n",
    "        grad = np.zeros_like(X)\n",
    "        \n",
    "        for idx, x in enumerate(X):\n",
    "            grad[idx] = _numerical_gradient_no_batch(f, x)\n",
    "        \n",
    "        return grad\n",
    "    \n",
    "def function_2(x):\n",
    "    if x.ndim == 1:\n",
    "        return np.sum(x**2)\n",
    "    else:\n",
    "        return np.sum(x**2, axis=1)\n",
    "\n",
    "def tangent_line(f, x):\n",
    "    d = numerical_gradient(f, x)\n",
    "    print(d)\n",
    "    y = f(x) - d*x\n",
    "    return lambda t: d*t + y\n",
    "\n",
    "x0 = np.arange(-2, 2.5, 0.25)\n",
    "x1 = np.arange(-2, 2.5, 0.25)\n",
    "X, Y = np.meshgrid(x0, x1)\n",
    "\n",
    "X = X.flatten()\n",
    "Y = Y.flatten()\n",
    "\n",
    "grad = numerical_gradient(function_2, np.array([X, Y]) )\n",
    "\n",
    "plt.figure()\n",
    "plt.quiver(X, Y, -grad[0], -grad[1],  angles=\"xy\",color=\"#666666\")#,headwidth=10,scale=40,color=\"#444444\")\n",
    "plt.xlim([-2, 2])\n",
    "plt.ylim([-2, 2])\n",
    "plt.xlabel('x0')\n",
    "plt.ylabel('x1')\n",
    "plt.grid()\n",
    "\n",
    "plt.draw()\n",
    "plt.show()"
   ]
  },
  {
   "cell_type": "markdown",
   "metadata": {},
   "source": [
    "기울기는 가장 낮은 장소를 가리키지만 최솟값이 아닐 수 있다. 기울기는 각 지점에서 낮아지는 방향을 가리키므로 중요한 것은 **기울기가 가리키는 쪽은 각 장소에서 함수의 출력 값을 가장 크게 줄이는 방향**이다."
   ]
  },
  {
   "cell_type": "markdown",
   "metadata": {},
   "source": [
    "### 4.4.1 Gradient Descent Method ###\n",
    "Machine Learning은 training에서 최적의 parameter을 찾아내며 Neural Network 또한 최적의 parameter(weight, bias)를 학습 시에 찾아야 한다. 최적의 parameter 값은 **loss function이 최솟값이 될 때** 이다.<br>\n",
    "따라서 기울기를 이용하여 함수의 최솟값(loss function의 최솟값)을 찾으려는 것이 Gradient Method이다.<br>\n",
    "*기울어진 방향이 꼭 최솟값은 아니지만 그 방향으로 가면 함수의 값을 줄일 수 있다.*"
   ]
  },
  {
   "cell_type": "markdown",
   "metadata": {},
   "source": [
    "#### Gradient Method ####\n",
    ": 현 위치에서 기울어진 방향으로 일정 거리만큼 이동하고 이동한 곳에서 기울기를 구하여 다시 기울어진 방향으로 나아가 함수의 값을 점차 줄이는 방법.<br>\n",
    "일반적으로 신경망(딥러닝) 분야에서 경사법은 **경사 하강법(Gradient Descent Method)** 를 많이 사용한다.\n"
   ]
  },
  {
   "cell_type": "markdown",
   "metadata": {},
   "source": [
    "$$ x_0 = x_0 - n \\frac{tf}{t_{x0}}$$\n",
    "$$ x_1 = x_1 - n \\frac{tf}{t_{x1}}$$"
   ]
  },
  {
   "cell_type": "markdown",
   "metadata": {},
   "source": [
    "n(eta, 에타) : 갱신하는 양 -> **learning rate(학습률)** , 한 번의 학습으로 얼마만큼 학습을 해야 할 지, 즉 매개변수 값을 얼마나 갱신하는 지 정하는 것이다."
   ]
  },
  {
   "cell_type": "markdown",
   "metadata": {},
   "source": [
    "learning rate는 hyper parameter로 값을 변경하면서 올바르게 학습하고 있는지를 확인하며 진행한다."
   ]
  },
  {
   "cell_type": "code",
   "execution_count": 20,
   "metadata": {},
   "outputs": [],
   "source": [
    "def gradient_descent(f, init_x, lr=0.01, step_num=100):\n",
    "    x = init_x\n",
    "    x_history = []\n",
    "    for i in range(step_num):\n",
    "        x_history.append(x.copy())\n",
    "        grad = numerical_gradient(f, x)\n",
    "        x -= lr * grad\n",
    "    return x, np.array(x_history)"
   ]
  },
  {
   "cell_type": "code",
   "execution_count": 21,
   "metadata": {},
   "outputs": [
    {
     "data": {
      "image/png": "[encoded data removed]",
      "text/plain": [
       "<Figure size 432x288 with 1 Axes>"
      ]
     },
     "metadata": {},
     "output_type": "display_data"
    }
   ],
   "source": [
    "# gradient method로 f(x0, x1) = xo^2 + x1^2의 최솟값을 구한다.\n",
    "def function_2(x):\n",
    "    return x[0]**2 + x[1]**2\n",
    "\n",
    "init_x = np.array([-3.0, 4.0])\n",
    "x, x_history = gradient_descent(function_2, init_x=init_x, lr=0.1, step_num=20)\n",
    "plt.plot( [-5, 5], [0,0], '--b')\n",
    "plt.plot( [0,0], [-5, 5], '--b')\n",
    "plt.plot(x_history[:,0], x_history[:,1], 'o')\n",
    "\n",
    "plt.xlim(-3.5, 3.5)\n",
    "plt.ylim(-4.5, 4.5)\n",
    "plt.xlabel(\"X0\")\n",
    "plt.ylabel(\"X1\")\n",
    "plt.show()"
   ]
  },
  {
   "cell_type": "markdown",
   "metadata": {},
   "source": [
    "실제로 진정한 최솟값은 (0,0)이므로 경사법으로 거의 정확한 결과를 얻음. 위 그림은 갱신 과정으로 값이 가장 낮은 원점에 점차 가까워지고 있음."
   ]
  },
  {
   "cell_type": "code",
   "execution_count": 24,
   "metadata": {},
   "outputs": [
    {
     "data": {
      "image/png": "[encoded data removed]",
      "text/plain": [
       "<Figure size 432x288 with 1 Axes>"
      ]
     },
     "metadata": {},
     "output_type": "display_data"
    }
   ],
   "source": [
    "# learning rate가 너무 클 경우 : lr = 10.0\n",
    "init_x = np.array([-3.0, 4.0])\n",
    "x, x_history = gradient_descent(function_2, init_x=init_x, lr=10.0, step_num=20)\n",
    "plt.plot( [-5, 5], [0,0], '--b')\n",
    "plt.plot( [0,0], [-5, 5], '--b')\n",
    "plt.plot(x_history[:,0], x_history[:,1], 'o')\n",
    "\n",
    "plt.xlim(-3.5, 3.5)\n",
    "plt.ylim(-4.5, 4.5)\n",
    "plt.xlabel(\"X0\")\n",
    "plt.ylabel(\"X1\")\n",
    "plt.show()"
   ]
  },
  {
   "cell_type": "code",
   "execution_count": 25,
   "metadata": {},
   "outputs": [
    {
     "data": {
      "image/png": "[encoded data removed]",
      "text/plain": [
       "<Figure size 432x288 with 1 Axes>"
      ]
     },
     "metadata": {},
     "output_type": "display_data"
    }
   ],
   "source": [
    "# learning rate가 너무 작을 경우 : lr = 1e-10\n",
    "init_x = np.array([-3.0, 4.0])\n",
    "x, x_history = gradient_descent(function_2, init_x=init_x, lr=1e-10, step_num=20)\n",
    "plt.plot( [-5, 5], [0,0], '--b')\n",
    "plt.plot( [0,0], [-5, 5], '--b')\n",
    "plt.plot(x_history[:,0], x_history[:,1], 'o')\n",
    "\n",
    "plt.xlim(-3.5, 3.5)\n",
    "plt.ylim(-4.5, 4.5)\n",
    "plt.xlabel(\"X0\")\n",
    "plt.ylabel(\"X1\")\n",
    "plt.show()"
   ]
  },
  {
   "cell_type": "markdown",
   "metadata": {},
   "source": [
    "learning rate가 너무 크면 큰 값으로 발산하고 너무 작으면 값이 거의 갱신되지 않은 채로 끝나므로 learning rate를 적절히 설정하는 것이 중요하다."
   ]
  },
  {
   "cell_type": "markdown",
   "metadata": {},
   "source": [
    "* learning rate같은 pyrameter를 **hyper parameter** 라고 한다. 이는 사람이 직접 설정해야 하는 parameter로 여러 후보 값 중에서 테스트를 통해 가장 잘 학습하는 값을 찾는 과정을 거친다."
   ]
  },
  {
   "cell_type": "markdown",
   "metadata": {},
   "source": [
    "### 4.4.2 Neural Network에서의 기울기\n",
    "여기서 말하는 기울기는 weight parameter에 대한 loss function의 기울기이다.<br>\n",
    "간단한 신경망을 통해 기울기를 구하는 코드를 구현해 보자"
   ]
  },
  {
   "cell_type": "code",
   "execution_count": 39,
   "metadata": {},
   "outputs": [],
   "source": [
    "import sys, os\n",
    "sys.path.append(os.pardir)\n",
    "import numpy as np\n",
    "from common.functions import softmax, cross_entropy_error\n",
    "from common.gradient import numerical_gradient\n",
    "\n",
    "class simpleNet:\n",
    "    def __init__(self):\n",
    "        self.W = np.random.randn(2, 3) # 정규분포로 초기화\n",
    "        \n",
    "    def predict(self, x):\n",
    "        return np.matmul(x, self.W)\n",
    "    \n",
    "    def loss(self, x, t):\n",
    "        z = self.predict(x)\n",
    "        y = softmax(z)\n",
    "        loss = cross_entropy_error(y, t)\n",
    "        \n",
    "        return loss"
   ]
  },
  {
   "cell_type": "markdown",
   "metadata": {},
   "source": [
    "simpleNet class는 shape가 2 * 3의 shape를 갖는 weight parameter 하나를 instance variable로 갖는다."
   ]
  },
  {
   "cell_type": "code",
   "execution_count": 42,
   "metadata": {},
   "outputs": [
    {
     "name": "stdout",
     "output_type": "stream",
     "text": [
      "[[ 0.28593893 -1.80131895 -1.30974816]\n",
      " [-0.19898884 -1.36983949 -0.23762223]]\n",
      "[-0.0075266  -2.31364691 -0.9997089 ]\n",
      "0\n"
     ]
    },
    {
     "data": {
      "text/plain": [
       "1.377725751806647"
      ]
     },
     "execution_count": 42,
     "metadata": {},
     "output_type": "execute_result"
    }
   ],
   "source": [
    "net = simpleNet()\n",
    "print(net.W) # weight parameter\n",
    "\n",
    "x = np.array([0.6, 0.9])\n",
    "p = net.predict(x)\n",
    "print(p)\n",
    "print(np.argmax(p))\n",
    "\n",
    "t = np.array([0, 0, 1]) # answer label\n",
    "net.loss(x, t)"
   ]
  },
  {
   "cell_type": "markdown",
   "metadata": {},
   "source": [
    "p.134, 135는 여러 번 읽어서 다시 공부한다."
   ]
  },
  {
   "cell_type": "markdown",
   "metadata": {},
   "source": [
    "## 4.5 Training Algorithm 구현\n",
    "Neural Network process\n",
    "* Neural Network에는 적용 가능한 weight, bias가 있고 이 weight, bias를 training data에 적응하도록 조정하는 과정을 **학습(training)** 이라 한다.\n",
    "    1. Mini-batch : Training data 중 일부를 random하게 가져와서 선별한 데이터를 mini-batch라 하며 이 mini-batch의 loss function을 줄여야 한다.\n",
    "    2. Gradient : Mini-batch의 loss function 값을 줄이기 위해서 각 weight parameter의 descent를 구한다. descent는 loss function의 값을 가장 작게 하는 방향을 제시한다.\n",
    "    3. parameter update : weight parameter를 gradient 방향으로 update한다.\n",
    "    4. repeat : 1-3단계를 반복한다."
   ]
  },
  {
   "cell_type": "markdown",
   "metadata": {},
   "source": [
    "**Gradient Descent**로 parameter를 업데이트하는 방법이며 데이터를 Mini-batch로 random하게 선정하기 때문에 **Stochastic Gradient Descent, SGD**라고 부른다.<br>\n",
    "이제 MNIST dataset으로 숫자를 학습하는 neural network를 구현 해 보자."
   ]
  },
  {
   "cell_type": "markdown",
   "metadata": {},
   "source": [
    "### 4.5.1 TwoLayerNet class 구현"
   ]
  },
  {
   "cell_type": "code",
   "execution_count": 45,
   "metadata": {},
   "outputs": [],
   "source": [
    "import sys, os\n",
    "sys.path.append(os.pardir)\n",
    "from common.functions import *\n",
    "from common.gradient import numerical_gradient\n",
    "\n",
    "class TwoLayerNet:\n",
    "    def __init__(self, input_size, hidden_size, output_size,\n",
    "                weight_init_std=0.01):\n",
    "    # weight 초기화\n",
    "        self.params = {}\n",
    "        self.params['W1'] = weight_init_std * np.random.randn(input_size, hidden_size)\n",
    "        self.params['b1'] = np.zeros(hidden_size)\n",
    "        self.params['W2'] = weight_init_std * np.random.randn(hidden_size, output_size)\n",
    "        self.params['b2'] = np.zeros(output_size)\n",
    "        \n",
    "    def predict(self, x):\n",
    "        W1, W2 = self.params['W1'], self.params['W2']\n",
    "        b1, b2 = self.params['b1'], self.params['b2']\n",
    "        \n",
    "        a1 = np.matmul(x, W1) + b1\n",
    "        z1 = sigmoid(a1)\n",
    "        a2 = np.matmul(z1, W2) + b2\n",
    "        y = softmax(a2)\n",
    "        \n",
    "        return y\n",
    "\n",
    "    # x : input data, t : answer label\n",
    "    \n",
    "    def loss(self, x, t):\n",
    "        y = self.predict(x)\n",
    "        return cross_entropy_error(y, t)\n",
    "    \n",
    "    def accuracy(self, x, t):\n",
    "        y = self.predict(x)\n",
    "        y = np.argmax(y, axis=1)\n",
    "        t = np.argmax(t, axis=1)\n",
    "        \n",
    "        accuracy = np.sum(y==t) / float(x.shape[0])\n",
    "        return accuracy\n",
    "    \n",
    "    def numerical_gradient(self, x, t):\n",
    "        loss_W = lambda W: self.loss(x, t)\n",
    "        \n",
    "        grads = {}\n",
    "        grads['W1'] = numerical_gradient(loss_W, self.params['W1'])\n",
    "        grads['b1'] = numerical_gradient(loss_W, self.params['b1'])\n",
    "        grads['W2'] = numerical_gradient(loss_W, self.params['W2'])\n",
    "        grads['b2'] = numerical_gradient(loss_W, self.params['b2'])\n",
    "        \n",
    "        return grads"
   ]
  },
  {
   "cell_type": "markdown",
   "metadata": {},
   "source": [
    "#### Variable\n",
    "* params: Neural Network의 parameter를 보관하는 dict\n",
    "    - params['W1'] : 1-layer's weight\n",
    "    - params['b1'] : 1-layer's bias\n",
    "    - params['W2'] : 2-layer's weight\n",
    "    - params['b2'] : 2-layer's bias\n",
    "* grads: gradient를 보관하는 dict\n",
    "    - grads['W1'] : 1-layer's weight's gradient\n",
    "    - grads['b1'] : 1-layer's bias's gradient\n",
    "    - grads['W2'] : 2-layer's weight's gradient\n",
    "    - grads['b2'] : 2-layer's bias's gradient    \n",
    "\n",
    "#### Method\n",
    "* __init(self, input_size, hidden_size, output_size): 초기화 수행\n",
    "* predict(self, x): 예측 수행, 순방향 처리\n",
    "* loss(self, x, t): loss function 수행\n",
    "* accuracy(self, x, t): 정확도를 구한다.\n",
    "* numerical_gradient(self, x, t): weight parameter's gradient 구함"
   ]
  },
  {
   "cell_type": "code",
   "execution_count": 49,
   "metadata": {},
   "outputs": [
    {
     "name": "stdout",
     "output_type": "stream",
     "text": [
      "(784, 100)\n",
      "(100,)\n",
      "(100, 10)\n",
      "(10,)\n"
     ]
    }
   ],
   "source": [
    "# Variable example\n",
    "net = TwoLayerNet(input_size=784, hidden_size=100, output_size=10)\n",
    "print(net.params['W1'].shape)\n",
    "print(net.params['b1'].shape)\n",
    "print(net.params['W2'].shape)\n",
    "print(net.params['b2'].shape)"
   ]
  },
  {
   "cell_type": "code",
   "execution_count": 54,
   "metadata": {},
   "outputs": [
    {
     "name": "stdout",
     "output_type": "stream",
     "text": [
      "(784, 100)\n",
      "(100,)\n",
      "(100, 10)\n",
      "(10,)\n"
     ]
    }
   ],
   "source": [
    "x = np.random.rand(100, 784) # dummy input data(100장 분량)\n",
    "y = net.predict(x)\n",
    "t = np.random.rand(100, 10) # dummy answer label(100장)\n",
    "grads = net.numerical_gradient(x, t)\n",
    "print(grads['W1'].shape)\n",
    "print(grads['b1'].shape)\n",
    "print(grads['W2'].shape)\n",
    "print(grads['b2'].shape)"
   ]
  },
  {
   "cell_type": "code",
   "execution_count": null,
   "metadata": {},
   "outputs": [],
   "source": []
  },
  {
   "cell_type": "code",
   "execution_count": null,
   "metadata": {},
   "outputs": [],
   "source": []
  },
  {
   "cell_type": "code",
   "execution_count": null,
   "metadata": {},
   "outputs": [],
   "source": []
  },
  {
   "cell_type": "code",
   "execution_count": null,
   "metadata": {},
   "outputs": [],
   "source": []
  },
  {
   "cell_type": "code",
   "execution_count": null,
   "metadata": {},
   "outputs": [],
   "source": []
  },
  {
   "cell_type": "code",
   "execution_count": null,
   "metadata": {},
   "outputs": [],
   "source": []
  },
  {
   "cell_type": "code",
   "execution_count": null,
   "metadata": {},
   "outputs": [],
   "source": []
  },
  {
   "cell_type": "code",
   "execution_count": null,
   "metadata": {},
   "outputs": [],
   "source": []
  }
 ],
 "metadata": {
  "kernelspec": {
   "display_name": "Python 3",
   "language": "python",
   "name": "python3"
  },
  "language_info": {
   "codemirror_mode": {
    "name": "ipython",
    "version": 3
   },
   "file_extension": ".py",
   "mimetype": "text/x-python",
   "name": "python",
   "nbconvert_exporter": "python",
   "pygments_lexer": "ipython3",
   "version": "3.6.5"
  }
 },
 "nbformat": 4,
 "nbformat_minor": 2
}
